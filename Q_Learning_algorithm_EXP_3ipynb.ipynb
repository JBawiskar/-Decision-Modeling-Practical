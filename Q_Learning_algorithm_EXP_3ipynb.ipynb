{
  "nbformat": 4,
  "nbformat_minor": 0,
  "metadata": {
    "colab": {
      "provenance": [],
      "authorship_tag": "ABX9TyNmqhRg9+rVQ3fZ3fSj/aoB",
      "include_colab_link": true
    },
    "kernelspec": {
      "name": "python3",
      "display_name": "Python 3"
    },
    "language_info": {
      "name": "python"
    }
  },
  "cells": [
    {
      "cell_type": "markdown",
      "metadata": {
        "id": "view-in-github",
        "colab_type": "text"
      },
      "source": [
        "<a href=\"https://colab.research.google.com/github/JBawiskar/-Decision-Modeling-Practical/blob/main/Q_Learning_algorithm_EXP_3ipynb.ipynb\" target=\"_parent\"><img src=\"https://colab.research.google.com/assets/colab-badge.svg\" alt=\"Open In Colab\"/></a>"
      ]
    },
    {
      "cell_type": "code",
      "execution_count": 1,
      "metadata": {
        "colab": {
          "base_uri": "https://localhost:8080/"
        },
        "id": "SoT8ZgtVhh6l",
        "outputId": "25159654-584f-4452-cec1-e412177f453a"
      },
      "outputs": [
        {
          "output_type": "stream",
          "name": "stderr",
          "text": [
            "/usr/local/lib/python3.10/dist-packages/gym/core.py:317: DeprecationWarning: \u001b[33mWARN: Initializing wrapper in old step API which returns one bool instead of two. It is recommended to set `new_step_api=True` to use new step API. This will be the default behaviour in future.\u001b[0m\n",
            "  deprecation(\n",
            "/usr/local/lib/python3.10/dist-packages/gym/wrappers/step_api_compatibility.py:39: DeprecationWarning: \u001b[33mWARN: Initializing environment in old step API which returns one bool instead of two. It is recommended to set `new_step_api=True` to use new step API. This will be the default behaviour in future.\u001b[0m\n",
            "  deprecation(\n",
            "/usr/local/lib/python3.10/dist-packages/gym/utils/passive_env_checker.py:241: DeprecationWarning: `np.bool8` is a deprecated alias for `np.bool_`.  (Deprecated NumPy 1.24)\n",
            "  if not isinstance(terminated, (bool, np.bool8)):\n"
          ]
        },
        {
          "output_type": "stream",
          "name": "stdout",
          "text": [
            "Learned Q-table:\n",
            "[[ 0.          0.          0.          0.          0.          0.        ]\n",
            " [-2.31149458 -2.29169262 -2.2919748  -2.29230642 -2.28708674 -5.70211346]\n",
            " [-1.69451934 -1.64851202 -1.76998191 -1.66735897 -0.79519988 -4.92796951]\n",
            " ...\n",
            " [-1.1403963  -1.07257415 -1.13794621 -1.16538773 -1.96       -2.79623518]\n",
            " [-2.04744392 -2.03620388 -2.04925706 -2.05762856 -3.59811112 -3.71557856]\n",
            " [-0.1        -0.1        -0.1         1.74220941  0.          0.        ]]\n",
            "Average Reward: -172.43\n"
          ]
        }
      ],
      "source": [
        "import numpy as np\n",
        "import gym\n",
        "\n",
        "# Create the environment\n",
        "env = gym.make('Taxi-v3')\n",
        "\n",
        "# Initialize Q-table with zeros\n",
        "Q = np.zeros([env.observation_space.n, env.action_space.n])\n",
        "\n",
        "# Set hyperparameters\n",
        "alpha = 0.1  # Learning rate\n",
        "gamma = 0.6  # Discount factor\n",
        "epsilon = 0.1  # Exploration rate\n",
        "\n",
        "# Number of episodes\n",
        "episodes = 1000\n",
        "\n",
        "# Q-Learning algorithm\n",
        "for _ in range(episodes):\n",
        "    state = env.reset()\n",
        "    done = False\n",
        "    while not done:\n",
        "        # Epsilon-greedy policy\n",
        "        if np.random.uniform(0, 1) < epsilon:\n",
        "            action = env.action_space.sample()  # Exploration\n",
        "        else:\n",
        "            action = np.argmax(Q[state])  # Exploitation\n",
        "\n",
        "        next_state, reward, done, _ = env.step(action)\n",
        "\n",
        "        # Q-value update\n",
        "        old_q_value = Q[state, action]\n",
        "        next_max = np.max(Q[next_state])\n",
        "        new_q_value = (1 - alpha) * old_q_value + alpha * (reward + gamma * next_max)\n",
        "        Q[state, action] = new_q_value\n",
        "\n",
        "        state = next_state\n",
        "\n",
        "# Print the learned Q-table\n",
        "print(\"Learned Q-table:\")\n",
        "print(Q)\n",
        "\n",
        "# Evaluate the learned policy\n",
        "total_rewards = 0\n",
        "episodes = 100\n",
        "for _ in range(episodes):\n",
        "    state = env.reset()\n",
        "    done = False\n",
        "    while not done:\n",
        "        action = np.argmax(Q[state])\n",
        "        state, reward, done, _ = env.step(action)\n",
        "        total_rewards += reward\n",
        "\n",
        "# Average reward over episodes\n",
        "average_reward = total_rewards / episodes\n",
        "print(\"Average Reward:\", average_reward)\n"
      ]
    }
  ]
}